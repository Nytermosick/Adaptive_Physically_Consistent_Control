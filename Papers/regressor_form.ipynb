{
  "cells": [
    {
      "cell_type": "markdown",
      "source": [
        "# **Linearly Parametrized Dynamics and Inertia Representations**\n",
        "\n",
        "This document provides a concise overview of linear parametrization of dynamics and the calculation of body and joint regressors.\n",
        "\n",
        "<!-- It is designed to serve as a handy reference to accompany our [mujoco-sysid repo](https://github.com/lvjonok/mujoco-sysid) and the associated demo notebook <a href=\"https://colab.research.google.com/github/lvjonok/mujoco-sysid/blob/master/examples/mujoco_sysid_demo.ipynb\"><img src=\"https://colab.research.google.com/assets/colab-badge.svg\" width=\"90\" align=\"center\"/></a>. -->\n",
        "\n",
        "The background theory is well-established and thoroughly explained in the following seminal papers:\n",
        "\n",
        "* [Identification of Fully Physical Consistent Inertial Parameters using Optimization on Manifolds](https://arxiv.org/pdf/1610.08703.pdf)\n",
        "* [On the closed form computation of the dynamic matrices and their differentiations](https://ieeexplore.ieee.org/document/6696688)\n",
        "* [Linear Matrix Inequalities for Physically-Consistent Inertial Parameter Identification: A Statistical Perspective on the Mass Distribution](https://arxiv.org/abs/1701.04395)\n",
        "* [Smooth Parameterization of Rigid-Body Inertia](https://ieeexplore.ieee.org/document/9690029)\n",
        "\n",
        "This notebook will be regularly updated along with the main repo. We encourage you to revisit periodically to stay informed about the most recent updates.\n",
        "<!-- The next update is planned for mid-May and will focus on various inertia representations and physical consistency constraints. -->\n",
        "\n",
        "But first, let's start with the fundamentals. To simplify some calculations, we will exploit the symbolic capabilities of Python via the `sympy` library:\n"
      ],
      "metadata": {
        "id": "HW0qbBrah0qO"
      }
    },
    {
      "cell_type": "code",
      "source": [
        "import sympy as sp"
      ],
      "metadata": {
        "id": "CYpI5GCIYEPj"
      },
      "execution_count": null,
      "outputs": []
    },
    {
      "cell_type": "markdown",
      "source": [
        "## Notation and Preliminaries\n",
        "\n"
      ],
      "metadata": {
        "id": "1SqdCD4wj74c"
      }
    },
    {
      "cell_type": "markdown",
      "source": [
        "Before proceeding further, let us introduce some notation and recall the basic concepts. If you are not familiar with some of these, please refer to Roy Featherstone's excellent book [\"Rigid Body Dynamics Algorithms\"](https://link.springer.com/book/10.1007/978-1-4899-7560-7).\n"
      ],
      "metadata": {
        "id": "71YULh2ej_1v"
      }
    },
    {
      "cell_type": "markdown",
      "source": [
        "\n",
        "- Given $u, v \\in \\mathbb{R}^{3}, S(u) \\in \\mathbb{R}^{3 \\times 3}$ denotes the skew-symmetric matrix-valued operator associated with the cross product in $\\mathbb{R}^{3}$, such that $S(u) v=u \\times v$"
      ],
      "metadata": {
        "id": "_Hdj7KH6kwHY"
      }
    },
    {
      "cell_type": "code",
      "source": [
        "def S(u):\n",
        "    return sp.Matrix([[0, -u[2], u[1]],\n",
        "                      [u[2], 0, -u[0]],\n",
        "                      [-u[1], u[0], 0]])"
      ],
      "metadata": {
        "id": "ZAMHNw-jixMD"
      },
      "execution_count": null,
      "outputs": []
    },
    {
      "cell_type": "markdown",
      "source": [
        "\n",
        "\n",
        "- $W$ denotes an world (inertial) frame and $B$ a local (body-fixed) frame .\n",
        "\n",
        "- $p_{B} \\in \\mathbb{R}^{3}$ denotes the origin of the $B$ frame expressed in the inertial frame, while ${ }^{W} R_{B} \\in S O(3)$ or simply $R$ is the rotation matrix that transforms a $3 \\mathrm{D}$ vector expressed with the orientation of the $B$ frame in a 3D vector expressed in the $W$ frame. $\\omega \\in \\mathbb{R}^{3}$ denotes the body angular velocity of body $B$, defined as $S(\\omega)=R^{\\top} \\dot{R}$.\n",
        "\n",
        "- $\\mathrm{v} \\in \\mathbb{R}^{6}$ indicates the body twist (spatial velocity), i.e :\n",
        "\n",
        "$$\n",
        "\\mathrm{v}=\\left[\\begin{array}{l} v \\\\  \n",
        "\\omega\n",
        "\\end{array}\\right]\n",
        "$$\n",
        "\n",
        "the spatial linear velocity $v =  R^{\\top}\\dot{p}_B$\n",
        "\n",
        "- $\\mathrm{f} \\in \\mathbb{R}^{6}$ indicates an external wrench exerted on the body i.e:\n",
        "\n",
        "$$\n",
        "\\mathrm{f}=\\left[\\begin{array}{l}\n",
        "f \\\\\n",
        "\\tau  \n",
        "\\end{array}\\right]\n",
        "$$\n",
        "\n",
        "where $f$ is the 3D  force and $\\tau$ the 3D torque, that are expressed in frame $B$.\n",
        "\n",
        "- Given $\\mathrm{v}=\\left[\\begin{array}{ll}v^{\\top} & \\omega^{\\top}\\end{array}\\right]^{\\top} \\in \\mathbb{R}^{6}, \\mathrm{v} \\hat{\\times}$ is the $6 \\mathrm{D}$ force cross product operator, defined as:\n",
        "\n",
        "$$\n",
        "\\mathrm{v} \\hat{\\times}=\\left[\\begin{array}{cc}\n",
        "S(\\omega) & 0_{3 \\times 3} \\\\\n",
        "S(v) & S(\\omega)  \n",
        "\\end{array}\\right]  \n",
        "$$\n"
      ],
      "metadata": {
        "id": "s-QY2b2kiu3B"
      }
    },
    {
      "cell_type": "code",
      "source": [
        "def motion_cross(v):\n",
        "    v_lin = v[:3]\n",
        "    omega = v[3:]\n",
        "    return sp.BlockMatrix([[S(omega), sp.zeros(3, 3)],\n",
        "                           [S(v_lin), S(omega)]])"
      ],
      "metadata": {
        "id": "UPI7xwS0jKJg"
      },
      "execution_count": null,
      "outputs": []
    },
    {
      "cell_type": "markdown",
      "source": [
        "<!-- - Given a symmetric matrix $I \\in \\mathbb{R}^{3 \\times 3}$ the vech operator denotes the serialization operation on symmetric matrices:\n",
        "\n",
        "$$\n",
        "\\operatorname{vech}\\left(\\left[\\begin{array}{lll}\n",
        "I_{x x} & I_{x y} & I_{x z} \\\\\n",
        "I_{x y} & I_{y y} & I_{y z} \\\\  \n",
        "I_{x z} & I_{y z} & I_{z z}\n",
        "\\end{array}\\right]\\right)=\\left[\\begin{array}{c}\n",
        "I_{x x} \\\\\n",
        "I_{x y} \\\\\n",
        "I_{x z} \\\\\n",
        "I_{y y} \\\\  \n",
        "I_{y z} \\\\\n",
        "I_{z z}  \n",
        "\\end{array}\\right]\n",
        "$$\n",
        "\n",
        "- Given a symmetric matrix $I \\in \\mathbb{R}^{n \\times n}, I \\succeq 0$ denotes that the matrix is positive semidefinite, i.e. that all its eigenvalues are nonnegative. -->\n",
        "\n",
        "- $g \\in \\mathbb{R}^{3}$ is the constant vector of gravity acceleration in inertial frame $W$.\n",
        "\n",
        "- $\\mathrm{a}^{g} \\in \\mathbb{R}^{6}$ denotes the proper body acceleration, i.e. the difference between the body **spatial acceleration** and the gravity acceleration:  \n",
        "\n",
        "$$\n",
        "\\mathrm{a}_{g}=\\dot{\\mathrm{v}}-\\left[\\begin{array}{c}\n",
        " R^{\\top} g \\\\\n",
        "0_{3}  \n",
        "\\end{array}\\right]\n",
        "$$\n",
        "\n",
        "**Note:** Body acceleration is spatial **NOT** the classical one which is given by:\n",
        "$$\n",
        "a = \\dot{\\mathrm{v}} + S(\\omega)\\mathrm{v}\n",
        "$$"
      ],
      "metadata": {
        "id": "cfT3KnNajBFb"
      }
    },
    {
      "cell_type": "markdown",
      "source": [
        "\n",
        "\n",
        "## **Single Rigid Body Dynamics**\n",
        "\n",
        "Using the above notation, we can formulate the Newton-Euler equations for a single rigid body (in the local frame) as:\n",
        "\n",
        "$$\n",
        "\\begin{equation*}\n",
        "M \\mathrm{a}_{g}+\\mathrm{v} \\hat{\\times} M \\mathrm{v}=\\mathrm{f}\n",
        "\\end{equation*}  \n",
        "$$\n",
        "\n",
        "where $M \\in \\mathbb{R}^{6 \\times 6}$ is the $6 \\mathrm{D}$ inertia matrix (also known as spatial inertia):\n",
        "\n",
        "$$\n",
        "M=\\left[\\begin{array}{cc}\n",
        "m 1_{3} & -m S(r_c) \\\\\n",
        "m S(r_c) & I_{B}  \n",
        "\\end{array}\\right]\n",
        "$$\n",
        "\n"
      ],
      "metadata": {
        "id": "kgnfFGy8i9XF"
      }
    },
    {
      "cell_type": "code",
      "source": [
        "def M(m, h, I_B):\n",
        "    I_3 = sp.eye(3)\n",
        "    return sp.BlockMatrix([[m*I_3, -S(h)],\n",
        "                           [S(h), I_B]])"
      ],
      "metadata": {
        "id": "ZVQfteFUjfNX"
      },
      "execution_count": null,
      "outputs": []
    },
    {
      "cell_type": "markdown",
      "source": [
        "The terms in the inertia matrix are:\n",
        "- $m \\in \\mathbb{R}$ is the mass of the rigid body.  \n",
        "- $h = mr_c \\in \\mathbb{R}^{3}$ is the so-called first inertia moment, i.e., the product of mass $m$ and the center of mass of the rigid body $r_c$, expressed in frame $B$.\n",
        "- $I \\in \\mathbb{R}^{3 \\times 3}$ is the $3 \\mathrm{D}$ inertia tensor of the rigid body, expressed with the orientation of frame $B$ and with respect to the frame $B$ origin.\n",
        "\n",
        "$$\n",
        "\\mathbf{I} =\\left[\\begin{array}{lll}\n",
        "I_{x x} & I_{x y} & I_{x z} \\\\\n",
        "I_{x y} & I_{y y} & I_{y z} \\\\\n",
        "I_{x z} & I_{y z} & I_{z z}\n",
        "\\end{array}\\right]\n",
        "$$\n",
        "\n",
        "The inertia tensor is represented in the body-fixed frame. Due to the symmetry of the inertia tensor, there are only $6$ unique parameters.\n",
        "\n",
        "It is not difficult to see that the positive definite symmetric spatial inertia matrix $M$ completely determines the inertial properties of a single rigid body. Furthermore, in the Newton-Euler equations above, there are only linear operations (matrix multiplications) with respect to $M$. This implies that the force (inverse dynamics) is **linearly parametrizable** with respect to the elements of $M$.."
      ],
      "metadata": {
        "id": "XNJ8E1t6rV6x"
      }
    },
    {
      "cell_type": "markdown",
      "source": [
        "## **Linear Parametrization**\n",
        "\n",
        "### **Inverse Dynamics**\n",
        "\n",
        "As we have deduced above, conceptually the inverse dynamics is linearly parametrizable:\n",
        "\n",
        "$$\n",
        "M \\mathrm{a}_{g}+\\mathrm{v} \\hat{\\times} M \\mathrm{v} = \\mathbf{Y}(\\mathrm{v}, \\mathrm{a}_{g})\\boldsymbol{\\theta} =\\mathrm{f}\n",
        "$$\n",
        "\n",
        "where $\\mathbf{Y}(\\bar{v}, \\mathrm{a}^{g}) \\in \\mathbb{R}^{6\\times10}$ is the so-called **body regressor**.\n",
        "\n",
        "The vector $\\theta \\in \\mathbb{R}^{10}$ represents the unique parameters of the spatial inertia matrix:\n",
        "\n",
        "$$\n",
        "\\mathbf{\\theta} = \\begin{bmatrix} m, h, \\operatorname {vech}(I)\\end{bmatrix}^T  = \\begin{bmatrix} m, mr_x, mr_y, mr_z, I_{xx}, I_{xy}, I_{yy}, I_{xz}, I_{yz}, I_{zz} \\end{bmatrix}^T\n",
        "$$\n",
        "\n",
        "Here $\\operatorname {vech}$ is the linear [half-vectorization operator ](https://en.wikipedia.org/wiki/Vectorization_(mathematics)#Half-vectorization) that maps components of a symmetric matrix to a vector. This operator takes advantage of the symmetry of the inertia matrix to represent it compactly using only its unique elements.\n",
        "\n",
        "Although these ten parameters are sufficient to fully characterize a rigid body's inertial properties, they may not be the most physically meaningful or intuitive set. Recent work has shown these standard inertial parameters are [tightly coupled with the density distribution](https://arxiv.org/pdf/1701.04395) of the rigid body. More insightful parametrizations that relate directly to the mass distribution may be preferable. However, we will begin with the standard parameters as they are the most commonly used and easy to work with mathematically. Later, we will discuss alternative inertial parametrizations as well as important physical consistency constraints they should obey.\n",
        "\n",
        "The most direct way to obtain the body regressor matrix is to take the partial derivative of the force $\\mathrm{f}$ with respect to the parameters $\\boldsymbol{\\theta}$. Alternatively, one could carefully reparametrize the cross product terms in the ID. Here we will use symbolic differentiation for clarity.\n",
        "\n",
        "First, let us create a function to calculate the inverse dynamics and a helper function to construct the spatial inertia from the parameter vector:"
      ],
      "metadata": {
        "id": "b_z36w1gjmco"
      }
    },
    {
      "cell_type": "code",
      "source": [
        "def force(a_g, v, M):\n",
        "    return sp.Matrix(M@a_g + motion_cross(v)@M@v)\n",
        "\n",
        "def parameters2spatial(params):\n",
        "    m, mr_x, mr_y, mr_z, I_xx, I_xy, I_yy, I_xz, I_yz, I_zz = params\n",
        "    h = sp.Matrix([mr_x, mr_y, mr_z])\n",
        "    I_B = sp.Matrix([[I_xx, I_xy, I_xz],\n",
        "                    [I_xy, I_yy, I_yz],\n",
        "                    [I_xz, I_yz, I_zz]])\n",
        "    return M(m, h, I_B)"
      ],
      "metadata": {
        "id": "XDAvOtEWkIjo"
      },
      "execution_count": null,
      "outputs": []
    },
    {
      "cell_type": "markdown",
      "source": [
        "Now let us calculate the symbolic expression for the inverse dynamics:"
      ],
      "metadata": {
        "id": "FTRynrLevNmK"
      }
    },
    {
      "cell_type": "code",
      "source": [
        "# Define symbolic variables for the proper body acceleration and body twist\n",
        "a_g = sp.Matrix(sp.symbols('a.vel[1] a.vel[2] a.vel[3] a.ang[1] a.ang[2] a.ang[3]'))\n",
        "v = sp.Matrix(sp.symbols('v.vel[1] v.vel[2] v.vel[3] v.ang[1] v.ang[2] v.ang[3]'))\n",
        "# The sequence of inertial parameters matches the order of the half-vectorization\n",
        "params = sp.Matrix(sp.symbols('m mr_x mr_y mr_z I_xx I_xy I_yy I_xz I_yz I_zz'))\n",
        "\n",
        "force_sym = force(a_g, v, parameters2spatial(params))\n",
        "force_sym"
      ],
      "metadata": {
        "id": "8Plyj1EWuLGs",
        "colab": {
          "base_uri": "https://localhost:8080/",
          "height": 159
        },
        "outputId": "28370217-3140-4fa2-9c9b-a0aba6bc8020"
      },
      "execution_count": null,
      "outputs": [
        {
          "output_type": "execute_result",
          "data": {
            "text/plain": [
              "Matrix([\n",
              "[                                                                                                                                                                                                                                       a.ang[2]*mr_z - a.ang[3]*mr_y + a.vel[1]*m + m*v.ang[2]*v.vel[3] - m*v.ang[3]*v.vel[2] - mr_x*v.ang[2]**2 - mr_x*v.ang[3]**2 + v.ang[1]*(mr_y*v.ang[2] + mr_z*v.ang[3])],\n",
              "[                                                                                                                                                                                                                                      -a.ang[1]*mr_z + a.ang[3]*mr_x + a.vel[2]*m - m*v.ang[1]*v.vel[3] + m*v.ang[3]*v.vel[1] - mr_y*v.ang[1]**2 - mr_y*v.ang[3]**2 + v.ang[2]*(mr_x*v.ang[1] + mr_z*v.ang[3])],\n",
              "[                                                                                                                                                                                                                                       a.ang[1]*mr_y - a.ang[2]*mr_x + a.vel[3]*m + m*v.ang[1]*v.vel[2] - m*v.ang[2]*v.vel[1] - mr_z*v.ang[1]**2 - mr_z*v.ang[2]**2 + v.ang[3]*(mr_x*v.ang[1] + mr_y*v.ang[2])],\n",
              "[I_xx*a.ang[1] + I_xy*a.ang[2] + I_xz*a.ang[3] - a.vel[2]*mr_z + a.vel[3]*mr_y + v.ang[1]*(-I_xy*v.ang[3] + I_xz*v.ang[2] + mr_y*v.vel[2] + mr_z*v.vel[3]) + v.ang[2]*(-I_yy*v.ang[3] + I_yz*v.ang[2] - mr_x*v.vel[2]) + v.ang[3]*(-I_yz*v.ang[3] + I_zz*v.ang[2] - mr_x*v.vel[3]) + v.vel[1]*(-mr_y*v.ang[2] - mr_z*v.ang[3]) + v.vel[2]*(-m*v.vel[3] + mr_x*v.ang[2]) + v.vel[3]*(m*v.vel[2] + mr_x*v.ang[3])],\n",
              "[   I_xy*a.ang[1] + I_yy*a.ang[2] + I_yz*a.ang[3] + a.vel[1]*mr_z - a.vel[3]*mr_x + v.ang[1]*(I_xx*v.ang[3] - I_xz*v.ang[1] - mr_y*v.vel[1]) + v.ang[2]*(I_xy*v.ang[3] - I_yz*v.ang[1] + mr_x*v.vel[1] + mr_z*v.vel[3]) + v.ang[3]*(I_xz*v.ang[3] - I_zz*v.ang[1] - mr_y*v.vel[3]) + v.vel[1]*(m*v.vel[3] + mr_y*v.ang[1]) + v.vel[2]*(-mr_x*v.ang[1] - mr_z*v.ang[3]) + v.vel[3]*(-m*v.vel[1] + mr_y*v.ang[3])],\n",
              "[I_xz*a.ang[1] + I_yz*a.ang[2] + I_zz*a.ang[3] - a.vel[1]*mr_y + a.vel[2]*mr_x + v.ang[1]*(-I_xx*v.ang[2] + I_xy*v.ang[1] - mr_z*v.vel[1]) + v.ang[2]*(-I_xy*v.ang[2] + I_yy*v.ang[1] - mr_z*v.vel[2]) + v.ang[3]*(-I_xz*v.ang[2] + I_yz*v.ang[1] + mr_x*v.vel[1] + mr_y*v.vel[2]) + v.vel[1]*(-m*v.vel[2] + mr_z*v.ang[1]) + v.vel[2]*(m*v.vel[1] + mr_z*v.ang[2]) + v.vel[3]*(-mr_x*v.ang[1] - mr_y*v.ang[2])]])"
            ],
            "text/latex": "$\\displaystyle \\left[\\begin{matrix}a.ang[2] mr_{z} - a.ang[3] mr_{y} + a.vel[1] m + m v.ang[2] v.vel[3] - m v.ang[3] v.vel[2] - mr_{x} v.ang[2]^{2} - mr_{x} v.ang[3]^{2} + v.ang[1] \\left(mr_{y} v.ang[2] + mr_{z} v.ang[3]\\right)\\\\- a.ang[1] mr_{z} + a.ang[3] mr_{x} + a.vel[2] m - m v.ang[1] v.vel[3] + m v.ang[3] v.vel[1] - mr_{y} v.ang[1]^{2} - mr_{y} v.ang[3]^{2} + v.ang[2] \\left(mr_{x} v.ang[1] + mr_{z} v.ang[3]\\right)\\\\a.ang[1] mr_{y} - a.ang[2] mr_{x} + a.vel[3] m + m v.ang[1] v.vel[2] - m v.ang[2] v.vel[1] - mr_{z} v.ang[1]^{2} - mr_{z} v.ang[2]^{2} + v.ang[3] \\left(mr_{x} v.ang[1] + mr_{y} v.ang[2]\\right)\\\\I_{xx} a.ang[1] + I_{xy} a.ang[2] + I_{xz} a.ang[3] - a.vel[2] mr_{z} + a.vel[3] mr_{y} + v.ang[1] \\left(- I_{xy} v.ang[3] + I_{xz} v.ang[2] + mr_{y} v.vel[2] + mr_{z} v.vel[3]\\right) + v.ang[2] \\left(- I_{yy} v.ang[3] + I_{yz} v.ang[2] - mr_{x} v.vel[2]\\right) + v.ang[3] \\left(- I_{yz} v.ang[3] + I_{zz} v.ang[2] - mr_{x} v.vel[3]\\right) + v.vel[1] \\left(- mr_{y} v.ang[2] - mr_{z} v.ang[3]\\right) + v.vel[2] \\left(- m v.vel[3] + mr_{x} v.ang[2]\\right) + v.vel[3] \\left(m v.vel[2] + mr_{x} v.ang[3]\\right)\\\\I_{xy} a.ang[1] + I_{yy} a.ang[2] + I_{yz} a.ang[3] + a.vel[1] mr_{z} - a.vel[3] mr_{x} + v.ang[1] \\left(I_{xx} v.ang[3] - I_{xz} v.ang[1] - mr_{y} v.vel[1]\\right) + v.ang[2] \\left(I_{xy} v.ang[3] - I_{yz} v.ang[1] + mr_{x} v.vel[1] + mr_{z} v.vel[3]\\right) + v.ang[3] \\left(I_{xz} v.ang[3] - I_{zz} v.ang[1] - mr_{y} v.vel[3]\\right) + v.vel[1] \\left(m v.vel[3] + mr_{y} v.ang[1]\\right) + v.vel[2] \\left(- mr_{x} v.ang[1] - mr_{z} v.ang[3]\\right) + v.vel[3] \\left(- m v.vel[1] + mr_{y} v.ang[3]\\right)\\\\I_{xz} a.ang[1] + I_{yz} a.ang[2] + I_{zz} a.ang[3] - a.vel[1] mr_{y} + a.vel[2] mr_{x} + v.ang[1] \\left(- I_{xx} v.ang[2] + I_{xy} v.ang[1] - mr_{z} v.vel[1]\\right) + v.ang[2] \\left(- I_{xy} v.ang[2] + I_{yy} v.ang[1] - mr_{z} v.vel[2]\\right) + v.ang[3] \\left(- I_{xz} v.ang[2] + I_{yz} v.ang[1] + mr_{x} v.vel[1] + mr_{y} v.vel[2]\\right) + v.vel[1] \\left(- m v.vel[2] + mr_{z} v.ang[1]\\right) + v.vel[2] \\left(m v.vel[1] + mr_{z} v.ang[2]\\right) + v.vel[3] \\left(- mr_{x} v.ang[1] - mr_{y} v.ang[2]\\right)\\end{matrix}\\right]$"
          },
          "metadata": {},
          "execution_count": 7
        }
      ]
    },
    {
      "cell_type": "markdown",
      "source": [
        "To get the symbolic expression for the body regressor, we take the Jacobian of the inverse dynamics with respect to the parameter vector $\\theta$:"
      ],
      "metadata": {
        "id": "koXx2ZBtvaJO"
      }
    },
    {
      "cell_type": "code",
      "source": [
        "Ysym = force_sym.jacobian(params)\n",
        "print(Ysym)"
      ],
      "metadata": {
        "colab": {
          "base_uri": "https://localhost:8080/"
        },
        "id": "tGQD-e4VvnPC",
        "outputId": "e7d99e2f-c62f-4918-fda1-5bea008d36e1"
      },
      "execution_count": null,
      "outputs": [
        {
          "output_type": "stream",
          "name": "stdout",
          "text": [
            "Matrix([[a.vel[1] + v.ang[2]*v.vel[3] - v.ang[3]*v.vel[2], -v.ang[2]**2 - v.ang[3]**2, -a.ang[3] + v.ang[1]*v.ang[2], a.ang[2] + v.ang[1]*v.ang[3], 0, 0, 0, 0, 0, 0], [a.vel[2] - v.ang[1]*v.vel[3] + v.ang[3]*v.vel[1], a.ang[3] + v.ang[1]*v.ang[2], -v.ang[1]**2 - v.ang[3]**2, -a.ang[1] + v.ang[2]*v.ang[3], 0, 0, 0, 0, 0, 0], [a.vel[3] + v.ang[1]*v.vel[2] - v.ang[2]*v.vel[1], -a.ang[2] + v.ang[1]*v.ang[3], a.ang[1] + v.ang[2]*v.ang[3], -v.ang[1]**2 - v.ang[2]**2, 0, 0, 0, 0, 0, 0], [0, 0, a.vel[3] + v.ang[1]*v.vel[2] - v.ang[2]*v.vel[1], -a.vel[2] + v.ang[1]*v.vel[3] - v.ang[3]*v.vel[1], a.ang[1], a.ang[2] - v.ang[1]*v.ang[3], -v.ang[2]*v.ang[3], a.ang[3] + v.ang[1]*v.ang[2], v.ang[2]**2 - v.ang[3]**2, v.ang[2]*v.ang[3]], [0, -a.vel[3] - v.ang[1]*v.vel[2] + v.ang[2]*v.vel[1], 0, a.vel[1] + v.ang[2]*v.vel[3] - v.ang[3]*v.vel[2], v.ang[1]*v.ang[3], a.ang[1] + v.ang[2]*v.ang[3], a.ang[2], -v.ang[1]**2 + v.ang[3]**2, a.ang[3] - v.ang[1]*v.ang[2], -v.ang[1]*v.ang[3]], [0, a.vel[2] - v.ang[1]*v.vel[3] + v.ang[3]*v.vel[1], -a.vel[1] - v.ang[2]*v.vel[3] + v.ang[3]*v.vel[2], 0, -v.ang[1]*v.ang[2], v.ang[1]**2 - v.ang[2]**2, v.ang[1]*v.ang[2], a.ang[1] - v.ang[2]*v.ang[3], a.ang[2] + v.ang[1]*v.ang[3], a.ang[3]]])\n"
          ]
        }
      ]
    },
    {
      "cell_type": "markdown",
      "source": [
        "*The* resulting matrix is the **body regressor**, which provides a linear parametrization of the inverse dynamics for a single rigid body, assuming the applied force and torque are known. However, in practice, robotic systems consist of multiple interconnected rigid bodies, and the spatial forces acting between bodies are internal to the system and not directly measurable while the only available measurements come from sensors located at the joints. This means the generalized coordinates used to describe the system are the joint angles and velocities. To make the inverse dynamics useful for control and identification, we need to reformulate it to be linear in the parameters while using joint-based generalized coordinates.\n",
        "\n"
      ],
      "metadata": {
        "id": "hgvFjFf_nhuz"
      }
    },
    {
      "cell_type": "markdown",
      "source": [
        "**Joint Regressor**\n",
        "\n",
        "In the joint regressor formulation, we seek a parametrization of the multi-body system whose joint space inverse dynamics can be written in the form:\n",
        "\n",
        "$$\n",
        "\\begin{equation*}\n",
        "\\mathbf{M}(\\mathbf{q}) \\dot{\\boldsymbol{\\nu}}+\\mathbf{c}(\\mathbf{q}, \\boldsymbol{\\nu})=\\mathbf{Q} = \\mathbf{Y}(\\mathbf{q}, \\boldsymbol{\\nu}, \\dot{\\boldsymbol{\\nu}}) \\boldsymbol{\\theta}\n",
        "\\end{equation*}\n",
        "$$\n",
        "\n",
        "where:\n",
        "* $nv \\in \\mathbb{N}_{+}$ is the number of degrees of freedom  \n",
        "* $\\mathbf{M} \\in \\mathbb{R}^{nv \\times nv}$ is the configuration-dependent positive definite inertia matrix\n",
        "* $\\mathbf{q} \\in \\mathcal{Q}$ is the configuration, with $\\mathcal{Q}$ being the configuration manifold\n",
        "* $\\boldsymbol{\\nu} \\in \\mathbb{R}^{nv}$ is the generalized velocity\n",
        "* $\\mathbf{c} \\in \\mathbb{R}^{nv}$ represents the combined effect of Coriolis, gravity, and other forces\n",
        "* $\\mathbf{Q} \\in \\mathbb{R}^{nv}$ is the vector of generalized forces (usually control inputs and contact forces)\n",
        "* $nb \\in \\mathbb{N}_{+}$ is the number of bodies in the system\n",
        "* $\\mathbf{Y} \\in \\mathbb{R}^{nv \\times 10nb}$ is the whole-system joint regressor matrix\n",
        "* $\\boldsymbol{\\theta}^{\\top} = [\\boldsymbol{\\theta}^{\\top}_1, \\cdots ,\\boldsymbol{\\theta}^{\\top}_{nb}]^{\\top} \\in \\mathbb{R}^{10nb}$ is the vector of stacked inertial parameters for each body\n",
        "\n",
        "The question is how to calculate the matrix $\\mathbf{Y}$ based only on \"joint\" signals. There are several ways to do this, but one of the easiest and most effective methods is based on the body regressor defined above.\n",
        "\n",
        "Let us focus on a single body whose velocity and acceleration are given by:\n",
        "\n",
        "$$\n",
        "\\mathrm{v}_j(q, \\nu) = J_j(q)\\nu\n",
        "$$\n",
        "\n",
        "$$\n",
        "\\mathrm{a}_{g_j}(q, \\nu, \\dot{\\nu})=J_j(q)\\dot{\\nu} + \\frac{dJ_j}{dt}\\nu-\\left[\\begin{array}{c}\n",
        "R(q)^{\\top} g \\\\\n",
        "0_{3}  \n",
        "\\end{array}\\right]\n",
        "$$\n",
        "\n",
        "where $J_j$ is the Jacobian matrix that maps the generalized velocities $\\nu$ into the spatial velocity of the $j$-th body frame origin expressed in the local frame. It is worth noting that the Jacobians and all related quantities are calculated based on forward kinematics (usually done by the forward recursion of the Recursive Newton-Euler Algorithm), and do not require any reasoning about dynamics.\n",
        "\n",
        "Given this notation, we may define the generalized force originating from the spatial twist at the origin of the $j$-th body as follows:\n",
        "\n",
        "$$\n",
        "Q_j = J^{\\top}_j \\mathrm{f}_j\n",
        "$$\n",
        "\n",
        "Substituting the expression for $\\mathrm{f}_j$ parametrized by the body regressor and taking into account the expressions for velocity and acceleration yields:\n",
        "\n",
        "$$\n",
        "J^{\\top}_j \\mathbf{Y}_{b_j}\\Big(\\mathrm{v}_j(q, \\nu), \\mathrm{a}_{g_j}(q, \\nu, \\dot{\\nu})\\Big)\\boldsymbol{\\theta}_j = J^{\\top}_j \\mathbf{Y}_{b_j}(q, \\nu, \\dot{\\nu})\\boldsymbol{\\theta}_j = \\mathbf{Y}_{j}(q, \\nu, \\dot{\\nu})\\boldsymbol{\\theta}_j\n",
        "$$\n",
        "\n",
        "Summing up the contributions from each generalized force, we obtain:\n",
        "\n",
        "$$\n",
        "\\mathbf{M}(\\mathbf{q}) \\dot{\\boldsymbol{\\nu}}+\\mathbf{c}(\\mathbf{q}, \\boldsymbol{\\nu}) = \\mathbf{Q} = \\sum^{nb}_{j=1} Q_j  = \\sum^{nb}_{j=1}\\mathbf{Y}_{j}(q, \\nu, \\dot{\\nu})\\boldsymbol{\\theta}_j  = \\mathbf{Y}(q, \\nu, \\dot{\\nu})\\boldsymbol{\\theta}\n",
        "$$\n",
        "\n",
        "Thus, one can formulate the system joint regressor as:\n",
        "\n",
        "$$\n",
        "\\mathbf{Y}(q, \\nu, \\dot{\\nu}) =\n",
        "\\begin{bmatrix}\n",
        "J_1^{\\top} Y_{b_1}\\big(\\mathrm{v}_1(q, \\nu), \\mathrm{a}_{g_1}(q, \\nu, \\dot{\\nu})\\big) & \\ldots & J_{nb}^{\\top}Y_{b_{nb}}\\big(\\mathrm{v}_{nb}(q, \\nu), \\mathrm{a}_{g_{nb}}(q, \\nu, \\dot{\\nu})\\big) \\end{bmatrix}\n",
        "$$\n",
        "\n",
        "which consists of the body regressors with their respective velocity and acceleration expressions substituted and mapped to joint torques via the Jacobian matrices.\n",
        "\n",
        "Some modeling libraries provide functions to compute these regressors.\n",
        "\n",
        "<!-- We also provide some [handy functions to calculate body and joint regressors in MuJoCo](https://github.com/lvjonok/mujoco-sysid/blob/master/mujoco_sysid/modeling.py). -->"
      ],
      "metadata": {
        "id": "FLPInGm1psdO"
      }
    },
    {
      "cell_type": "markdown",
      "source": [
        "## **Inertia Parametrization**\n",
        "\n",
        "In the discussion above, we have defined the inertial parameters of a rigid body as the following vector in $\\mathbb{R}^{10}$:\n",
        "\n",
        "$$\n",
        "\\boldsymbol{\\theta}=\\left[m, h_x, h_y, h_z, I_{x x}, I_{x y}, I_{y y}, I_{x z}, I_{y z}, I_{z z}\\right]\n",
        "$$\n",
        "\n",
        "This parametrization is intuitive and straightforward. However, it might seem that the parameters $\\boldsymbol{\\theta}$ are independent variables, but this is not entirely the case.\n",
        "\n",
        "To clarify this, let us redefine the inertial parameters through the density distribution $\\rho(\\mathbf{x})$:\n",
        "$$\n",
        "\\begin{aligned}\n",
        "m & =\\int_{\\mathbb{R}^3} \\rho(\\mathbf{x}) \\, \\mathrm{d} V \\\\\n",
        "\\mathbf{h} & =\\int_{\\mathbb{R}^3} \\mathbf{x} \\rho(\\mathbf{x}) \\, \\mathrm{d} V=\\left[\\begin{array}{lll}\n",
        "h_x & h_y & h_z\n",
        "\\end{array}\\right]^{\\top} \\\\\n",
        "\\mathbf{I} & =\\iiint_{\\mathbb{R}^3}\\left[\\begin{array}{ccc}\n",
        "y^2+z^2 & -x y & -x z \\\\\n",
        "-x y & x^2+z^2 & -y z \\\\\n",
        "-x z & -y z & x^2+y^2\n",
        "\\end{array}\\right] \\rho(\\mathbf{x}) \\mathrm{d} V \\\\\n",
        "& =\\left[\\begin{array}{lll}\n",
        "I_{x x} & I_{x y} & I_{x z} \\\\\n",
        "I_{x y} & I_{y y} & I_{y z} \\\\\n",
        "I_{x z} & I_{y z} & I_{z z}\n",
        "\\end{array}\\right]\n",
        "\\end{aligned}\n",
        "$$\n",
        "\n",
        "Thus, for the inertia vector $\\boldsymbol{\\theta}$ to maintain **physical consistency**, all parameters must originate from the same density distribution function, i.e:\n",
        "\n",
        "---\n",
        "\n",
        "Candidate inertial parameters $\\boldsymbol{\\theta}$ are fully physically consistent if and only if there exists some finite-valued density field $\\rho(\\cdot): \\mathbb{R}^{3} \\mapsto \\mathbb{R}_{\\geq 0}$ such that $\\boldsymbol{\\theta}$ satisfies integral equalities above and $m>0$.\n",
        "\n",
        "---\n",
        "\n",
        "This requirement introduces specific constraints on $\\boldsymbol{\\theta}$. By considering physical consistency, improvements can be made in both the accuracy and efficiency of parameter estimation, leading to enhancements in adaptive algorithms.\n",
        "\n",
        "Research in this field has gained momentum recently, leading to the development of various conditions and **inertia parametrizations** that guarantee physical consistency. The above we have discussing the different inertia parametrization, this text is adopted from recent paper on smooth inertia parametrization.\n"
      ],
      "metadata": {
        "id": "C1uPBTsXndy9"
      }
    },
    {
      "cell_type": "markdown",
      "source": [
        "### **Eigen Decomposition**\n",
        "\n",
        "It is known that every rigid body has a principal frame in which the inertia tensor can be diagonalized, i.e. represented via eigen decomposition as:\n",
        "\n",
        "$$\n",
        "\\mathbf{I} = \\mathbf{R} \\mathbf{D} \\mathbf{R}^\\top\n",
        "$$\n",
        "\n",
        "Here, $\\mathbf{D} = \\operatorname{diag}(D_x, D_y, D_z)$ consists of the principal moments of inertia, and $\\mathbf{R}$ is a rotation matrix belonging to $\\mathrm{SO}(3)$, the special orthogonal group.\n",
        "\n",
        "[Traversaro et al.](https://arxiv.org/pdf/1610.08703), demonstrated that this principal basis can be effectively utilized to parametrize a set of inertial parameters that are fully physically consistent. Specifically, a set of parameters $\\theta$ is considered fully physically consistent if $\\mathbf{I} \\succ 0$, $m > 0$, and the following triangular inequalities are satisfied:\n",
        "\n",
        "$$\n",
        "D_x < D_y + D_z, \\quad D_y < D_x + D_z, \\quad D_z < D_x + D_y\n",
        "$$\n",
        "\n",
        "These inequalities stem from the relationships among the principal moments and the second moments $L_x, L_y, L_z$ of the rigid body along its principal axes, given by:\n",
        "\n",
        "$$\n",
        "D_x = L_y + L_z, \\quad D_y = L_x + L_z, \\quad D_z = L_x + L_y\n",
        "$$\n",
        "\n",
        "where\n",
        "\n",
        "$$\n",
        "\\begin{aligned}\n",
        "L_x &= \\int_{\\mathbb{R}^3} x'^2 \\rho(\\mathbf{x}) \\, dV, \\\\\n",
        "L_y &= \\int_{\\mathbb{R}^3} y'^2 \\rho(\\mathbf{x}) \\, dV, \\\\\n",
        "L_z &= \\int_{\\mathbb{R}^3} z'^2 \\rho(\\mathbf{x}) \\, dV,\n",
        "\\end{aligned}\n",
        "$$\n",
        "\n",
        "and the vector $\\mathbf{x}' = [x', y', z']^\\top$ represents the coordinates transformed by $\\mathbf{R}$, such that $\\mathbf{R} \\mathbf{x}' = \\mathbf{x}$. The positivity of $L_x, L_y, L_z$ implies the validity of the triangular inequalities.\n",
        "\n",
        "This leads to a natural parametrization of the inertial parameters $\\theta$ in terms of a product space $\\mathbb{R}_{>0} \\times \\mathbb{R}^3 \\times \\mathrm{SO}(3) \\times \\mathbb{R}_{>0}^3$, using:\n",
        "\n",
        "$$\n",
        "m \\in \\mathbb{R}_{>0}, \\quad \\mathbf{h} \\in \\mathbb{R}^3, \\quad \\mathbf{R} \\in \\mathrm{SO}(3), \\quad \\mathbf{L} = \\begin{bmatrix} L_x \\\\ L_y \\\\ L_z \\end{bmatrix} \\in \\mathbb{R}_{>0}^3\n",
        "$$\n",
        "\n",
        "The resultant rotational inertia $\\mathbf{I}$ and the diagonal matrix $\\mathbf{D}$ are derived from $\\mathbf{L}$. However, this mapping's domain is not a vector space due to the involvement of manifolds like $\\mathrm{SO}(3)$ and $\\mathbb{R}_{>0}^3$. Therefore, physically-consistent inertial parameter estimation often requires methods such as projections or Riemannian optimization. An alternative could involve reparameterizing $\\mathrm{SO}(3)$ using exponential coordinates $\\boldsymbol{\\beta} \\in \\mathbb{R}^3$ as $\\mathbf{R} = e^{\\mathbf{S}(\\boldsymbol{\\beta})}$.\n",
        "\n",
        "---\n",
        "\n",
        "Thus the set of physically consistant parameterts can be derived via:\n",
        "\n",
        "$$\n",
        "\\boldsymbol{\\psi} = [m \\in \\mathbb{R}_{>0}, \\mathbf{h} \\in \\mathbb{R}^3, \\boldsymbol{\\beta} \\in \\mathbb{R}^3, \\mathbf{L} \\in \\mathbb{R}_{>0}^3]\n",
        "$$\n",
        "\n",
        "---\n",
        "\n",
        "Despite the theoretical elegance, this eigen-decomposition-based parametrization encounters singularities, identified in [related research](https://ieeexplore.ieee.org/document/9690029). These singularities occur when two of the second moments are equal i.e when the body exhibits rotational symmetries, which are common in robotic links. This will result in singular  Jacobian:\n",
        "\n",
        "$$\\boldsymbol{J}_\\psi = \\frac{\\partial \\theta}{\\partial \\psi}$$\n",
        "\n",
        "These singularities can significantly affect differentiable physics applications and online adaptive estimation. Moreover, the parametrization is not bijective, as multiple parameter sets can yield the same inertia matrix. These challenges necessitate the exploration of alternative representations for physically consistent inertial parameters."
      ],
      "metadata": {
        "id": "B9K2Wcahnmrj"
      }
    },
    {
      "cell_type": "markdown",
      "source": [
        "### **Pseudo Inertia**\n",
        "\n",
        "From our earlier discussions, it might appear that a set of physically consistent parameters cannot be represented in a vector space format, particularly due to the involvement of $\\mathrm{SO}(3)$. One might also think that any parameterization using $\\mathbb{R}^{10}$ would encounter similar issues. However, recent research challenges this assumption. Investigations into two specific parameterizations have demonstrated a one-to-one mapping from the vector space of $\\theta$ to a set of physically consistent parameters, each devoid of singularities. Both approaches incorporate the concept of a [$4 \\times 4$ pseudoinertia matrix](https://arxiv.org/abs/1701.04395), defined as follows:\n",
        "\n",
        "$$\n",
        "\\mathbf{J}(\\boldsymbol{\\theta}) = \\left[\\begin{array}{cc}\n",
        "\\boldsymbol{\\Sigma} & \\mathbf{h} \\\\\n",
        "\\mathbf{h}^\\top & m\n",
        "\\end{array}\\right]\n",
        "$$\n",
        "\n",
        "where:\n",
        "\n",
        "$$\n",
        "\\boldsymbol{\\Sigma} = \\frac{1}{2} \\operatorname{Tr}(\\mathbf{I}) \\mathbf{1}_{3} - \\mathbf{I} \\quad \\text{and} \\quad \\mathbf{I} = \\operatorname{Tr}(\\boldsymbol{\\Sigma}) \\mathbf{1}_{3} - \\boldsymbol{\\Sigma}\n",
        "$$\n"
      ],
      "metadata": {
        "id": "YNd0xZv8Gv8y"
      }
    },
    {
      "cell_type": "markdown",
      "source": [
        "Let us create the function to facilitate these calculations:"
      ],
      "metadata": {
        "id": "knT1jeuSpsam"
      }
    },
    {
      "cell_type": "code",
      "source": [
        "def theta2pseudo(theta):\n",
        "    \"\"\"\n",
        "    Converts theta parameters into the pseudo inertia matrix.\n",
        "\n",
        "    Args:\n",
        "        theta (np.ndarray): Contains mass, first moments, and inertia tensor components:\n",
        "            [m, h_x, h_y, h_z, I_xx, I_xy, I_yy, I_xz, I_yz, I_zz]\n",
        "    Returns:\n",
        "        np.ndarray: Pseudo inertia matrix.\n",
        "    \"\"\"\n",
        "    m = theta[0]\n",
        "    h = theta[1:4]\n",
        "    I_xx, I_xy, I_yy, I_xz, I_yz, I_zz = theta[4:]\n",
        "\n",
        "    I_bar = sp.Matrix([[I_xx, I_xy, I_xz], [I_xy, I_yy, I_yz], [I_xz, I_yz, I_zz]])\n",
        "\n",
        "    Sigma = 0.5 * sp.trace(I_bar) * sp.eye(3) - I_bar\n",
        "\n",
        "    pseudo_inertia = sp.Matrix(sp.zeros(4))\n",
        "    pseudo_inertia[:3, :3] = Sigma\n",
        "    pseudo_inertia[:3, 3] = sp.Matrix(h)\n",
        "    pseudo_inertia[3, :3] = sp.Matrix(h).T\n",
        "    pseudo_inertia[3, 3] = m\n",
        "\n",
        "    return pseudo_inertia"
      ],
      "metadata": {
        "id": "6O5l-ay1pjxD"
      },
      "execution_count": null,
      "outputs": []
    },
    {
      "cell_type": "markdown",
      "source": [
        "Thus we may get the pseudo inertia matrix as:"
      ],
      "metadata": {
        "id": "q2qG9nSppzXm"
      }
    },
    {
      "cell_type": "code",
      "source": [
        "pseudo = theta2pseudo(params)\n",
        "pseudo"
      ],
      "metadata": {
        "colab": {
          "base_uri": "https://localhost:8080/",
          "height": 98
        },
        "id": "-4SJnMoTp3PW",
        "outputId": "d116a100-ff5f-4b92-d751-7739878d944d"
      },
      "execution_count": null,
      "outputs": [
        {
          "output_type": "execute_result",
          "data": {
            "text/plain": [
              "Matrix([\n",
              "[-0.5*I_xx + 0.5*I_yy + 0.5*I_zz,                          -I_xy,                          -I_xz, mr_x],\n",
              "[                          -I_xy, 0.5*I_xx - 0.5*I_yy + 0.5*I_zz,                          -I_yz, mr_y],\n",
              "[                          -I_xz,                          -I_yz, 0.5*I_xx + 0.5*I_yy - 0.5*I_zz, mr_z],\n",
              "[                           mr_x,                           mr_y,                           mr_z,    m]])"
            ],
            "text/latex": "$\\displaystyle \\left[\\begin{matrix}- 0.5 I_{xx} + 0.5 I_{yy} + 0.5 I_{zz} & - I_{xy} & - I_{xz} & mr_{x}\\\\- I_{xy} & 0.5 I_{xx} - 0.5 I_{yy} + 0.5 I_{zz} & - I_{yz} & mr_{y}\\\\- I_{xz} & - I_{yz} & 0.5 I_{xx} + 0.5 I_{yy} - 0.5 I_{zz} & mr_{z}\\\\mr_{x} & mr_{y} & mr_{z} & m\\end{matrix}\\right]$"
          },
          "metadata": {},
          "execution_count": 10
        }
      ]
    },
    {
      "cell_type": "code",
      "source": [
        "print(pseudo)"
      ],
      "metadata": {
        "id": "D9J6_BVSpv6g",
        "outputId": "937a23d0-ff4c-41a9-b2ea-f34e50bb73a9",
        "colab": {
          "base_uri": "https://localhost:8080/"
        }
      },
      "execution_count": null,
      "outputs": [
        {
          "output_type": "stream",
          "name": "stdout",
          "text": [
            "Matrix([[-0.5*I_xx + 0.5*I_yy + 0.5*I_zz, -I_xy, -I_xz, mr_x], [-I_xy, 0.5*I_xx - 0.5*I_yy + 0.5*I_zz, -I_yz, mr_y], [-I_xz, -I_yz, 0.5*I_xx + 0.5*I_yy - 0.5*I_zz, mr_z], [mr_x, mr_y, mr_z, m]])\n"
          ]
        }
      ]
    },
    {
      "cell_type": "markdown",
      "source": [
        "Conversion back is done as simple as:"
      ],
      "metadata": {
        "id": "bQWV0SZNr9EI"
      }
    },
    {
      "cell_type": "code",
      "source": [
        "def pseudo2theta(pseudo_inertia):\n",
        "    \"\"\"\n",
        "    Converts a pseudo inertia matrix back to theta parameters using sympy.\n",
        "\n",
        "    Args:\n",
        "        pseudo_inertia (sp.Matrix): Pseudo inertia matrix.\n",
        "\n",
        "    Returns:\n",
        "        sp.Matrix: Vector of parameters [m, h_x, h_y, h_z, I_xx, I_xy, I_yy, I_xz, I_yz, I_zz].\n",
        "    \"\"\"\n",
        "    # Extract mass and first moments\n",
        "    m = pseudo_inertia[3, 3]\n",
        "    h = pseudo_inertia[:3, 3]\n",
        "\n",
        "    # Extract and compute the Sigma matrix\n",
        "    Sigma = pseudo_inertia[:3, :3]\n",
        "\n",
        "    # Compute the inertia tensor I_bar from Sigma\n",
        "    trace_Sigma = sp.trace(Sigma)\n",
        "    I_bar = trace_Sigma * sp.eye(3) -  Sigma\n",
        "\n",
        "    # Extract individual components of the inertia tensor\n",
        "    I_xx = I_bar[0, 0]\n",
        "    I_xy = I_bar[0, 1]\n",
        "    I_yy = I_bar[1, 1]\n",
        "    I_xz = I_bar[0, 2]\n",
        "    I_yz = I_bar[1, 2]\n",
        "    I_zz = I_bar[2, 2]\n",
        "\n",
        "    # Create a vector of the theta parameters\n",
        "    theta = sp.Matrix([m, h[0], h[1], h[2], I_xx, I_xy, I_yy, I_xz, I_yz, I_zz])\n",
        "\n",
        "    return theta\n",
        "\n"
      ],
      "metadata": {
        "id": "5MalHSXpsBxM"
      },
      "execution_count": null,
      "outputs": []
    },
    {
      "cell_type": "code",
      "source": [
        "pseudo2theta(pseudo)"
      ],
      "metadata": {
        "colab": {
          "base_uri": "https://localhost:8080/",
          "height": 220
        },
        "id": "C3bPFpm1sJ3J",
        "outputId": "8167fd3e-5202-45d2-b41c-9e57883bad5e"
      },
      "execution_count": null,
      "outputs": [
        {
          "output_type": "execute_result",
          "data": {
            "text/plain": [
              "Matrix([\n",
              "[       m],\n",
              "[    mr_x],\n",
              "[    mr_y],\n",
              "[    mr_z],\n",
              "[1.0*I_xx],\n",
              "[    I_xy],\n",
              "[1.0*I_yy],\n",
              "[    I_xz],\n",
              "[    I_yz],\n",
              "[1.0*I_zz]])"
            ],
            "text/latex": "$\\displaystyle \\left[\\begin{matrix}m\\\\mr_{x}\\\\mr_{y}\\\\mr_{z}\\\\1.0 I_{xx}\\\\I_{xy}\\\\1.0 I_{yy}\\\\I_{xz}\\\\I_{yz}\\\\1.0 I_{zz}\\end{matrix}\\right]$"
          },
          "metadata": {},
          "execution_count": 13
        }
      ]
    },
    {
      "cell_type": "markdown",
      "source": [
        "\n",
        "This matrix can also be formulated through a density function using homogeneous coordinates:\n",
        "\n",
        "$$\n",
        "\\mathbf{q} = \\left[\\begin{array}{c}\n",
        "\\mathbf{x} \\\\\n",
        "1\n",
        "\\end{array}\\right]\n",
        "$$\n",
        "\n",
        "The pseudo-inertia is expressed as:\n",
        "\n",
        "$$\n",
        "\\mathbf{J} = \\int_{V} \\mathbf{q} \\mathbf{q}^\\top \\rho(\\mathbf{x}) \\mathrm{d} V\n",
        "$$\n",
        "\n",
        "---\n",
        "\n",
        "It has been established that $\\theta$ is fully physically consistent if and only if:\n",
        "\n",
        "$$\\mathbf{J}(\\boldsymbol{\\theta}) \\succ 0$$\n",
        "\n",
        "---\n",
        "\n",
        "This finding is crucial in expressing physical consistency through linear matrix inequalities and in recognizing that physical consistency is equivalent to the Riemannian manifold of symmetric positive definite $4 \\times 4$ matrices: $\\mathcal{P}^{4}$. This geometric interpretation immediately introduces the exponential/logarithmic map parametrization, which utilizes matrix exponentials and logarithms:\n",
        "\n",
        "$$\n",
        "\\exp (\\mathbf{T}) = \\sum_{k=0}^{\\infty} \\frac{\\mathbf{T}^k}{k!} = \\mathbf{P} \\in \\mathcal{P}^{4}\n",
        "$$\n",
        "\n",
        "$$\n",
        "\\log (\\mathbf{P}) = -\\sum_{k=1}^{\\infty} \\frac{(\\mathbf{1}-\\mathbf{P})^k}{k} = \\mathbf{T} \\in \\mathcal{S}^{4}\n",
        "$$\n",
        "\n",
        "Taking the upper triangular elements of the matrix logarithm provides the following parametrization:\n",
        "\n",
        "$$\n",
        "\\boldsymbol{\\gamma} = \\operatorname{vech}\\{\\log (\\mathbf{J}(\\boldsymbol{\\theta}))\\}\n",
        "$$\n",
        "\n",
        "and the parameters are reconstructed by:\n",
        "\n",
        "$$\n",
        "\\mathbf{J}(\\boldsymbol{\\theta}) = \\exp (\\operatorname{invvech}(\\boldsymbol{\\gamma}))\n",
        "$$\n",
        "\n",
        "where the inverse vectorization operator $\\operatorname{invvech}$ constructs the symmetric matrix from its upper triangular elements.\n",
        "\n",
        "This parametrization is both practically and theoretically intriguing, offering insights into the geometry of inertia, clearly demonstrating that it does not conform to the vector space $\\mathbb{R}^{10}$. However, the physical meaning of this parameterization is not immediately apparent, and its computational complexity does not allow for a straightforward formulation of the Jacobian. This complexity has led to the development of the novel Log-Cholesky parametrization, which simplifies some of these challenges."
      ],
      "metadata": {
        "id": "N7Ee0W_Mpo9c"
      }
    },
    {
      "cell_type": "markdown",
      "source": [
        "### **Log-Cholesky**\n",
        "\n",
        "In the context of ensuring physical consistency constraints, the requirement for the positive definiteness of pseudo inertia is critical. Recent research by Rucker et al. proposes the use of Log Cholesky decomposition as a novel method to explicitly parameterize the pseudo inertia in terms of elements of the decomposed matrix. This approach leverages the decomposition of a real symmetric matrix \\(\\mathbf{J}\\), which can be elegantly expressed using the Cholesky decomposition:\n",
        "\n",
        "$$\n",
        "\\mathbf{J} = \\mathbf{U} \\mathbf{U}^{\\top}\n",
        "$$\n",
        "\n",
        "Here,$\\mathbf{U}$ is an upper triangular matrix with positive diagonal elements, though the decomposition could alternatively utilize a lower triangular matrix.\n",
        "\n",
        "An essential feature of upper triangular matrices, like $\\mathbf{U}$, is their nonsingularity, contingent upon all diagonal elements being nonzero. This characteristic can be captured by parametrizing the elements of the Cholesky decomposition as follows:\n",
        "\n",
        "$$\n",
        "\\mathbf{U} = e^{\\alpha} \\left[\\begin{array}{cccc}\n",
        "e^{d_1} & s_{12} & s_{13} & t_1 \\\\\n",
        "0 & e^{d_2} & s_{23} & t_2 \\\\\n",
        "0 & 0 & e^{d_3} & t_3 \\\\\n",
        "0 & 0 & 0 & 1\n",
        "\\end{array}\\right]\n",
        "$$\n",
        "\n",
        "This formulation reflects a variant of the [Log-Cholesky decomposition](https://arxiv.org/pdf/1908.09326), where the bottom-right scalar term is explicitly factored out.\n",
        "\n",
        "\n",
        "Let us create the routines that will convert the Log-Cholesky parameters top its matrix representation:"
      ],
      "metadata": {
        "id": "Ft-MKDUyG7o5"
      }
    },
    {
      "cell_type": "code",
      "source": [
        "def logchol2chol(phi):\n",
        "    \"\"\"\n",
        "    Constructs the matrix U from the given parameters.\n",
        "\n",
        "    Args:\n",
        "        phi (list or sympy.Matrix): Contains the parameters:\n",
        "            [alpha, d1, d2, d3, s12, s23, s13, t1, t2, t3]\n",
        "\n",
        "    Returns:\n",
        "        sympy.Matrix: The matrix U.\n",
        "    \"\"\"\n",
        "    # Unpack the parameters from the input vector\n",
        "    alpha, d1, d2, d3, s12, s23, s13, t1, t2, t3 = phi\n",
        "\n",
        "    # Compute the exponential terms\n",
        "    exp_alpha = sp.exp(alpha)\n",
        "    exp_d1 = sp.exp(d1)\n",
        "    exp_d2 = sp.exp(d2)\n",
        "    exp_d3 = sp.exp(d3)\n",
        "\n",
        "    # Create the matrix U\n",
        "    U = sp.Matrix([\n",
        "        [exp_d1, s12, s13, t1],\n",
        "        [0, exp_d2, s23, t2],\n",
        "        [0, 0, exp_d3, t3],\n",
        "        [0, 0, 0, 1]\n",
        "    ])\n",
        "\n",
        "    # Multiply the entire matrix by exp(alpha)\n",
        "    U = exp_alpha * U\n",
        "\n",
        "    return U\n"
      ],
      "metadata": {
        "id": "h5qeRYtzsqAB"
      },
      "execution_count": null,
      "outputs": []
    },
    {
      "cell_type": "markdown",
      "source": [
        "\n",
        "---\n",
        "\n",
        "The Log-Cholesky parameters can be defined as a vector in $\\mathbb{R}^{10}$:\n",
        "\n",
        "$$\n",
        "\\boldsymbol{\\phi} = \\left[\\alpha, d_1, d_2, d_3, s_{12}, s_{23}, s_{13}, t_1, t_2, t_3\\right]^{\\top}\n",
        "$$\n",
        "\n",
        "---\n"
      ],
      "metadata": {
        "id": "ws7e-BnKtnze"
      }
    },
    {
      "cell_type": "code",
      "source": [
        "phi = sp.Matrix(sp.symbols('alpha d_1 d_2 d_3 s_12 s_23 s_13 t_1 t_2 t_3'))\n",
        "phi"
      ],
      "metadata": {
        "colab": {
          "base_uri": "https://localhost:8080/",
          "height": 220
        },
        "id": "qoN661q3tunh",
        "outputId": "387c6bb3-2435-460c-92a9-d70adac0c435"
      },
      "execution_count": null,
      "outputs": [
        {
          "output_type": "execute_result",
          "data": {
            "text/plain": [
              "Matrix([\n",
              "[alpha],\n",
              "[  d_1],\n",
              "[  d_2],\n",
              "[  d_3],\n",
              "[ s_12],\n",
              "[ s_23],\n",
              "[ s_13],\n",
              "[  t_1],\n",
              "[  t_2],\n",
              "[  t_3]])"
            ],
            "text/latex": "$\\displaystyle \\left[\\begin{matrix}\\alpha\\\\d_{1}\\\\d_{2}\\\\d_{3}\\\\s_{12}\\\\s_{23}\\\\s_{13}\\\\t_{1}\\\\t_{2}\\\\t_{3}\\end{matrix}\\right]$"
          },
          "metadata": {},
          "execution_count": 15
        }
      ]
    },
    {
      "cell_type": "markdown",
      "source": [
        "Let us build the upper triangular matrix from above parameters:"
      ],
      "metadata": {
        "id": "lr3GQ3a5t68U"
      }
    },
    {
      "cell_type": "code",
      "source": [
        "U = logchol2chol(phi)\n",
        "U"
      ],
      "metadata": {
        "colab": {
          "base_uri": "https://localhost:8080/",
          "height": 99
        },
        "id": "LsPPo3H3t6hT",
        "outputId": "5786b6c9-7624-4ea6-dea6-20a8e2debc76"
      },
      "execution_count": null,
      "outputs": [
        {
          "output_type": "execute_result",
          "data": {
            "text/plain": [
              "Matrix([\n",
              "[exp(alpha)*exp(d_1),     s_12*exp(alpha),     s_13*exp(alpha), t_1*exp(alpha)],\n",
              "[                  0, exp(alpha)*exp(d_2),     s_23*exp(alpha), t_2*exp(alpha)],\n",
              "[                  0,                   0, exp(alpha)*exp(d_3), t_3*exp(alpha)],\n",
              "[                  0,                   0,                   0,     exp(alpha)]])"
            ],
            "text/latex": "$\\displaystyle \\left[\\begin{matrix}e^{\\alpha} e^{d_{1}} & s_{12} e^{\\alpha} & s_{13} e^{\\alpha} & t_{1} e^{\\alpha}\\\\0 & e^{\\alpha} e^{d_{2}} & s_{23} e^{\\alpha} & t_{2} e^{\\alpha}\\\\0 & 0 & e^{\\alpha} e^{d_{3}} & t_{3} e^{\\alpha}\\\\0 & 0 & 0 & e^{\\alpha}\\end{matrix}\\right]$"
          },
          "metadata": {},
          "execution_count": 16
        }
      ]
    },
    {
      "cell_type": "markdown",
      "source": [
        "Using these parameters in the Cholesky decomposition, we compute the matrix \\(\\mathbf{J}\\):\n",
        "\n",
        "$$\n",
        "\\mathbf{J}(\\boldsymbol{\\phi}) = \\mathbf{U}(\\boldsymbol{\\phi}) \\mathbf{U}^{\\top}(\\boldsymbol{\\phi})\n",
        "$$\n",
        "\n",
        "The design of $\\boldsymbol{\\phi}$ ensures that the resulting pseudo inertia $\\mathbf{J}$ is always positive definite, thereby satisfying physical consistency without imposing constraints on $\\boldsymbol{\\phi}$.\n",
        "\n"
      ],
      "metadata": {
        "id": "iUjuMOLTtJZ0"
      }
    },
    {
      "cell_type": "code",
      "source": [
        "pseudo_cholesky = U@U.T"
      ],
      "metadata": {
        "id": "09nTWg0dufoL"
      },
      "execution_count": null,
      "outputs": []
    },
    {
      "cell_type": "code",
      "source": [
        "pseudo_cholesky"
      ],
      "metadata": {
        "id": "QGASBpiNsqtH",
        "outputId": "7dd8c102-5bc7-48c9-b03d-16414c3b9068",
        "colab": {
          "base_uri": "https://localhost:8080/",
          "height": 99
        }
      },
      "execution_count": null,
      "outputs": [
        {
          "output_type": "execute_result",
          "data": {
            "text/plain": [
              "Matrix([\n",
              "[s_12**2*exp(2*alpha) + s_13**2*exp(2*alpha) + t_1**2*exp(2*alpha) + exp(2*alpha)*exp(2*d_1), s_12*exp(2*alpha)*exp(d_2) + s_13*s_23*exp(2*alpha) + t_1*t_2*exp(2*alpha), s_13*exp(2*alpha)*exp(d_3) + t_1*t_3*exp(2*alpha), t_1*exp(2*alpha)],\n",
              "[                 s_12*exp(2*alpha)*exp(d_2) + s_13*s_23*exp(2*alpha) + t_1*t_2*exp(2*alpha),       s_23**2*exp(2*alpha) + t_2**2*exp(2*alpha) + exp(2*alpha)*exp(2*d_2), s_23*exp(2*alpha)*exp(d_3) + t_2*t_3*exp(2*alpha), t_2*exp(2*alpha)],\n",
              "[                                          s_13*exp(2*alpha)*exp(d_3) + t_1*t_3*exp(2*alpha),                          s_23*exp(2*alpha)*exp(d_3) + t_2*t_3*exp(2*alpha),     t_3**2*exp(2*alpha) + exp(2*alpha)*exp(2*d_3), t_3*exp(2*alpha)],\n",
              "[                                                                           t_1*exp(2*alpha),                                                           t_2*exp(2*alpha),                                  t_3*exp(2*alpha),     exp(2*alpha)]])"
            ],
            "text/latex": "$\\displaystyle \\left[\\begin{matrix}s_{12}^{2} e^{2 \\alpha} + s_{13}^{2} e^{2 \\alpha} + t_{1}^{2} e^{2 \\alpha} + e^{2 \\alpha} e^{2 d_{1}} & s_{12} e^{2 \\alpha} e^{d_{2}} + s_{13} s_{23} e^{2 \\alpha} + t_{1} t_{2} e^{2 \\alpha} & s_{13} e^{2 \\alpha} e^{d_{3}} + t_{1} t_{3} e^{2 \\alpha} & t_{1} e^{2 \\alpha}\\\\s_{12} e^{2 \\alpha} e^{d_{2}} + s_{13} s_{23} e^{2 \\alpha} + t_{1} t_{2} e^{2 \\alpha} & s_{23}^{2} e^{2 \\alpha} + t_{2}^{2} e^{2 \\alpha} + e^{2 \\alpha} e^{2 d_{2}} & s_{23} e^{2 \\alpha} e^{d_{3}} + t_{2} t_{3} e^{2 \\alpha} & t_{2} e^{2 \\alpha}\\\\s_{13} e^{2 \\alpha} e^{d_{3}} + t_{1} t_{3} e^{2 \\alpha} & s_{23} e^{2 \\alpha} e^{d_{3}} + t_{2} t_{3} e^{2 \\alpha} & t_{3}^{2} e^{2 \\alpha} + e^{2 \\alpha} e^{2 d_{3}} & t_{3} e^{2 \\alpha}\\\\t_{1} e^{2 \\alpha} & t_{2} e^{2 \\alpha} & t_{3} e^{2 \\alpha} & e^{2 \\alpha}\\end{matrix}\\right]$"
          },
          "metadata": {},
          "execution_count": 18
        }
      ]
    },
    {
      "cell_type": "code",
      "source": [
        "print(pseudo_cholesky)"
      ],
      "metadata": {
        "id": "oalrX27K9vcn",
        "outputId": "d30e619a-a744-4caf-f91b-2aa5186a17b5",
        "colab": {
          "base_uri": "https://localhost:8080/"
        }
      },
      "execution_count": null,
      "outputs": [
        {
          "output_type": "stream",
          "name": "stdout",
          "text": [
            "Matrix([[s_12**2*exp(2*alpha) + s_13**2*exp(2*alpha) + t_1**2*exp(2*alpha) + exp(2*alpha)*exp(2*d_1), s_12*exp(2*alpha)*exp(d_2) + s_13*s_23*exp(2*alpha) + t_1*t_2*exp(2*alpha), s_13*exp(2*alpha)*exp(d_3) + t_1*t_3*exp(2*alpha), t_1*exp(2*alpha)], [s_12*exp(2*alpha)*exp(d_2) + s_13*s_23*exp(2*alpha) + t_1*t_2*exp(2*alpha), s_23**2*exp(2*alpha) + t_2**2*exp(2*alpha) + exp(2*alpha)*exp(2*d_2), s_23*exp(2*alpha)*exp(d_3) + t_2*t_3*exp(2*alpha), t_2*exp(2*alpha)], [s_13*exp(2*alpha)*exp(d_3) + t_1*t_3*exp(2*alpha), s_23*exp(2*alpha)*exp(d_3) + t_2*t_3*exp(2*alpha), t_3**2*exp(2*alpha) + exp(2*alpha)*exp(2*d_3), t_3*exp(2*alpha)], [t_1*exp(2*alpha), t_2*exp(2*alpha), t_3*exp(2*alpha), exp(2*alpha)]])\n"
          ]
        }
      ]
    },
    {
      "cell_type": "markdown",
      "source": [
        "**Transformation to Inertial Parameters**\n",
        "\n",
        "The transformation of elements from $\\mathbf{J}$ to inertial parameters $\\boldsymbol{\\theta}$ is given by:"
      ],
      "metadata": {
        "id": "wZVAlYt-ueL-"
      }
    },
    {
      "cell_type": "code",
      "source": [
        "theta_logchol = pseudo2theta(pseudo_cholesky)\n",
        "theta_logchol"
      ],
      "metadata": {
        "colab": {
          "base_uri": "https://localhost:8080/",
          "height": 221
        },
        "id": "2UBHTKAgumQc",
        "outputId": "e3565f54-fbea-47ae-cafc-ab422f3a4ed5"
      },
      "execution_count": null,
      "outputs": [
        {
          "output_type": "execute_result",
          "data": {
            "text/plain": [
              "Matrix([\n",
              "[                                                                                                                                                      exp(2*alpha)],\n",
              "[                                                                                                                                                  t_1*exp(2*alpha)],\n",
              "[                                                                                                                                                  t_2*exp(2*alpha)],\n",
              "[                                                                                                                                                  t_3*exp(2*alpha)],\n",
              "[                                              s_23**2*exp(2*alpha) + t_2**2*exp(2*alpha) + t_3**2*exp(2*alpha) + exp(2*alpha)*exp(2*d_2) + exp(2*alpha)*exp(2*d_3)],\n",
              "[                                                                                       -s_12*exp(2*alpha)*exp(d_2) - s_13*s_23*exp(2*alpha) - t_1*t_2*exp(2*alpha)],\n",
              "[                       s_12**2*exp(2*alpha) + s_13**2*exp(2*alpha) + t_1**2*exp(2*alpha) + t_3**2*exp(2*alpha) + exp(2*alpha)*exp(2*d_1) + exp(2*alpha)*exp(2*d_3)],\n",
              "[                                                                                                                -s_13*exp(2*alpha)*exp(d_3) - t_1*t_3*exp(2*alpha)],\n",
              "[                                                                                                                -s_23*exp(2*alpha)*exp(d_3) - t_2*t_3*exp(2*alpha)],\n",
              "[s_12**2*exp(2*alpha) + s_13**2*exp(2*alpha) + s_23**2*exp(2*alpha) + t_1**2*exp(2*alpha) + t_2**2*exp(2*alpha) + exp(2*alpha)*exp(2*d_1) + exp(2*alpha)*exp(2*d_2)]])"
            ],
            "text/latex": "$\\displaystyle \\left[\\begin{matrix}e^{2 \\alpha}\\\\t_{1} e^{2 \\alpha}\\\\t_{2} e^{2 \\alpha}\\\\t_{3} e^{2 \\alpha}\\\\s_{23}^{2} e^{2 \\alpha} + t_{2}^{2} e^{2 \\alpha} + t_{3}^{2} e^{2 \\alpha} + e^{2 \\alpha} e^{2 d_{2}} + e^{2 \\alpha} e^{2 d_{3}}\\\\- s_{12} e^{2 \\alpha} e^{d_{2}} - s_{13} s_{23} e^{2 \\alpha} - t_{1} t_{2} e^{2 \\alpha}\\\\s_{12}^{2} e^{2 \\alpha} + s_{13}^{2} e^{2 \\alpha} + t_{1}^{2} e^{2 \\alpha} + t_{3}^{2} e^{2 \\alpha} + e^{2 \\alpha} e^{2 d_{1}} + e^{2 \\alpha} e^{2 d_{3}}\\\\- s_{13} e^{2 \\alpha} e^{d_{3}} - t_{1} t_{3} e^{2 \\alpha}\\\\- s_{23} e^{2 \\alpha} e^{d_{3}} - t_{2} t_{3} e^{2 \\alpha}\\\\s_{12}^{2} e^{2 \\alpha} + s_{13}^{2} e^{2 \\alpha} + s_{23}^{2} e^{2 \\alpha} + t_{1}^{2} e^{2 \\alpha} + t_{2}^{2} e^{2 \\alpha} + e^{2 \\alpha} e^{2 d_{1}} + e^{2 \\alpha} e^{2 d_{2}}\\end{matrix}\\right]$"
          },
          "metadata": {},
          "execution_count": 20
        }
      ]
    },
    {
      "cell_type": "code",
      "source": [
        "print(theta_logchol)"
      ],
      "metadata": {
        "id": "Xdmdzu95w4Qv",
        "outputId": "86b82c30-f10a-4d95-c1a6-1dbea0630507",
        "colab": {
          "base_uri": "https://localhost:8080/"
        }
      },
      "execution_count": null,
      "outputs": [
        {
          "output_type": "stream",
          "name": "stdout",
          "text": [
            "Matrix([[exp(2*alpha)], [t_1*exp(2*alpha)], [t_2*exp(2*alpha)], [t_3*exp(2*alpha)], [s_23**2*exp(2*alpha) + t_2**2*exp(2*alpha) + t_3**2*exp(2*alpha) + exp(2*alpha)*exp(2*d_2) + exp(2*alpha)*exp(2*d_3)], [-s_12*exp(2*alpha)*exp(d_2) - s_13*s_23*exp(2*alpha) - t_1*t_2*exp(2*alpha)], [s_12**2*exp(2*alpha) + s_13**2*exp(2*alpha) + t_1**2*exp(2*alpha) + t_3**2*exp(2*alpha) + exp(2*alpha)*exp(2*d_1) + exp(2*alpha)*exp(2*d_3)], [-s_13*exp(2*alpha)*exp(d_3) - t_1*t_3*exp(2*alpha)], [-s_23*exp(2*alpha)*exp(d_3) - t_2*t_3*exp(2*alpha)], [s_12**2*exp(2*alpha) + s_13**2*exp(2*alpha) + s_23**2*exp(2*alpha) + t_1**2*exp(2*alpha) + t_2**2*exp(2*alpha) + exp(2*alpha)*exp(2*d_1) + exp(2*alpha)*exp(2*d_2)]])\n"
          ]
        }
      ]
    },
    {
      "cell_type": "markdown",
      "source": [
        "The Jacobian of this mapping, denoted as $\\boldsymbol{J}_{\\phi}$:\n",
        "\n",
        "$$\\boldsymbol{J}_\\phi = \\frac{\\partial \\theta}{\\partial \\phi}$$"
      ],
      "metadata": {
        "id": "PU3-wXpEfHDM"
      }
    },
    {
      "cell_type": "code",
      "source": [
        "theta_logchol.jacobian(phi)"
      ],
      "metadata": {
        "colab": {
          "base_uri": "https://localhost:8080/",
          "height": 241
        },
        "id": "QZjDdhbaxPsH",
        "outputId": "4e01f680-ddca-4ac0-a051-a60778dc9d33"
      },
      "execution_count": null,
      "outputs": [
        {
          "output_type": "execute_result",
          "data": {
            "text/plain": [
              "Matrix([\n",
              "[                                                                                                                                                                  2*exp(2*alpha),                         0,                           0,                           0,                      0,                      0,                      0,                  0,                  0,                  0],\n",
              "[                                                                                                                                                              2*t_1*exp(2*alpha),                         0,                           0,                           0,                      0,                      0,                      0,       exp(2*alpha),                  0,                  0],\n",
              "[                                                                                                                                                              2*t_2*exp(2*alpha),                         0,                           0,                           0,                      0,                      0,                      0,                  0,       exp(2*alpha),                  0],\n",
              "[                                                                                                                                                              2*t_3*exp(2*alpha),                         0,                           0,                           0,                      0,                      0,                      0,                  0,                  0,       exp(2*alpha)],\n",
              "[                                                  2*s_23**2*exp(2*alpha) + 2*t_2**2*exp(2*alpha) + 2*t_3**2*exp(2*alpha) + 2*exp(2*alpha)*exp(2*d_2) + 2*exp(2*alpha)*exp(2*d_3),                         0,   2*exp(2*alpha)*exp(2*d_2),   2*exp(2*alpha)*exp(2*d_3),                      0,    2*s_23*exp(2*alpha),                      0,                  0, 2*t_2*exp(2*alpha), 2*t_3*exp(2*alpha)],\n",
              "[                                                                                               -2*s_12*exp(2*alpha)*exp(d_2) - 2*s_13*s_23*exp(2*alpha) - 2*t_1*t_2*exp(2*alpha),                         0, -s_12*exp(2*alpha)*exp(d_2),                           0, -exp(2*alpha)*exp(d_2),     -s_13*exp(2*alpha),     -s_23*exp(2*alpha),  -t_2*exp(2*alpha),  -t_1*exp(2*alpha),                  0],\n",
              "[                         2*s_12**2*exp(2*alpha) + 2*s_13**2*exp(2*alpha) + 2*t_1**2*exp(2*alpha) + 2*t_3**2*exp(2*alpha) + 2*exp(2*alpha)*exp(2*d_1) + 2*exp(2*alpha)*exp(2*d_3), 2*exp(2*alpha)*exp(2*d_1),                           0,   2*exp(2*alpha)*exp(2*d_3),    2*s_12*exp(2*alpha),                      0,    2*s_13*exp(2*alpha), 2*t_1*exp(2*alpha),                  0, 2*t_3*exp(2*alpha)],\n",
              "[                                                                                                                          -2*s_13*exp(2*alpha)*exp(d_3) - 2*t_1*t_3*exp(2*alpha),                         0,                           0, -s_13*exp(2*alpha)*exp(d_3),                      0,                      0, -exp(2*alpha)*exp(d_3),  -t_3*exp(2*alpha),                  0,  -t_1*exp(2*alpha)],\n",
              "[                                                                                                                          -2*s_23*exp(2*alpha)*exp(d_3) - 2*t_2*t_3*exp(2*alpha),                         0,                           0, -s_23*exp(2*alpha)*exp(d_3),                      0, -exp(2*alpha)*exp(d_3),                      0,                  0,  -t_3*exp(2*alpha),  -t_2*exp(2*alpha)],\n",
              "[2*s_12**2*exp(2*alpha) + 2*s_13**2*exp(2*alpha) + 2*s_23**2*exp(2*alpha) + 2*t_1**2*exp(2*alpha) + 2*t_2**2*exp(2*alpha) + 2*exp(2*alpha)*exp(2*d_1) + 2*exp(2*alpha)*exp(2*d_2), 2*exp(2*alpha)*exp(2*d_1),   2*exp(2*alpha)*exp(2*d_2),                           0,    2*s_12*exp(2*alpha),    2*s_23*exp(2*alpha),    2*s_13*exp(2*alpha), 2*t_1*exp(2*alpha), 2*t_2*exp(2*alpha),                  0]])"
            ],
            "text/latex": "$\\displaystyle \\left[\\begin{matrix}2 e^{2 \\alpha} & 0 & 0 & 0 & 0 & 0 & 0 & 0 & 0 & 0\\\\2 t_{1} e^{2 \\alpha} & 0 & 0 & 0 & 0 & 0 & 0 & e^{2 \\alpha} & 0 & 0\\\\2 t_{2} e^{2 \\alpha} & 0 & 0 & 0 & 0 & 0 & 0 & 0 & e^{2 \\alpha} & 0\\\\2 t_{3} e^{2 \\alpha} & 0 & 0 & 0 & 0 & 0 & 0 & 0 & 0 & e^{2 \\alpha}\\\\2 s_{23}^{2} e^{2 \\alpha} + 2 t_{2}^{2} e^{2 \\alpha} + 2 t_{3}^{2} e^{2 \\alpha} + 2 e^{2 \\alpha} e^{2 d_{2}} + 2 e^{2 \\alpha} e^{2 d_{3}} & 0 & 2 e^{2 \\alpha} e^{2 d_{2}} & 2 e^{2 \\alpha} e^{2 d_{3}} & 0 & 2 s_{23} e^{2 \\alpha} & 0 & 0 & 2 t_{2} e^{2 \\alpha} & 2 t_{3} e^{2 \\alpha}\\\\- 2 s_{12} e^{2 \\alpha} e^{d_{2}} - 2 s_{13} s_{23} e^{2 \\alpha} - 2 t_{1} t_{2} e^{2 \\alpha} & 0 & - s_{12} e^{2 \\alpha} e^{d_{2}} & 0 & - e^{2 \\alpha} e^{d_{2}} & - s_{13} e^{2 \\alpha} & - s_{23} e^{2 \\alpha} & - t_{2} e^{2 \\alpha} & - t_{1} e^{2 \\alpha} & 0\\\\2 s_{12}^{2} e^{2 \\alpha} + 2 s_{13}^{2} e^{2 \\alpha} + 2 t_{1}^{2} e^{2 \\alpha} + 2 t_{3}^{2} e^{2 \\alpha} + 2 e^{2 \\alpha} e^{2 d_{1}} + 2 e^{2 \\alpha} e^{2 d_{3}} & 2 e^{2 \\alpha} e^{2 d_{1}} & 0 & 2 e^{2 \\alpha} e^{2 d_{3}} & 2 s_{12} e^{2 \\alpha} & 0 & 2 s_{13} e^{2 \\alpha} & 2 t_{1} e^{2 \\alpha} & 0 & 2 t_{3} e^{2 \\alpha}\\\\- 2 s_{13} e^{2 \\alpha} e^{d_{3}} - 2 t_{1} t_{3} e^{2 \\alpha} & 0 & 0 & - s_{13} e^{2 \\alpha} e^{d_{3}} & 0 & 0 & - e^{2 \\alpha} e^{d_{3}} & - t_{3} e^{2 \\alpha} & 0 & - t_{1} e^{2 \\alpha}\\\\- 2 s_{23} e^{2 \\alpha} e^{d_{3}} - 2 t_{2} t_{3} e^{2 \\alpha} & 0 & 0 & - s_{23} e^{2 \\alpha} e^{d_{3}} & 0 & - e^{2 \\alpha} e^{d_{3}} & 0 & 0 & - t_{3} e^{2 \\alpha} & - t_{2} e^{2 \\alpha}\\\\2 s_{12}^{2} e^{2 \\alpha} + 2 s_{13}^{2} e^{2 \\alpha} + 2 s_{23}^{2} e^{2 \\alpha} + 2 t_{1}^{2} e^{2 \\alpha} + 2 t_{2}^{2} e^{2 \\alpha} + 2 e^{2 \\alpha} e^{2 d_{1}} + 2 e^{2 \\alpha} e^{2 d_{2}} & 2 e^{2 \\alpha} e^{2 d_{1}} & 2 e^{2 \\alpha} e^{2 d_{2}} & 0 & 2 s_{12} e^{2 \\alpha} & 2 s_{23} e^{2 \\alpha} & 2 s_{13} e^{2 \\alpha} & 2 t_{1} e^{2 \\alpha} & 2 t_{2} e^{2 \\alpha} & 0\\end{matrix}\\right]$"
          },
          "metadata": {},
          "execution_count": 22
        }
      ]
    },
    {
      "cell_type": "markdown",
      "source": [
        "the only non-constant factors of the determinant of $\\boldsymbol{J}_\\phi$ are $e^{\\alpha}, e^d_{1}, e^{d_{2}}, e^{d_{3}}$:"
      ],
      "metadata": {
        "id": "vFZMpignfjmV"
      }
    },
    {
      "cell_type": "code",
      "source": [
        "sp.det(theta_logchol.jacobian(phi))"
      ],
      "metadata": {
        "colab": {
          "base_uri": "https://localhost:8080/",
          "height": 39
        },
        "id": "7yjHAfbixhRb",
        "outputId": "24803318-2cf8-4525-d291-816bfd551aee"
      },
      "execution_count": null,
      "outputs": [
        {
          "output_type": "execute_result",
          "data": {
            "text/plain": [
              "32*exp(20*alpha)*exp(2*d_1)*exp(3*d_2)*exp(4*d_3)"
            ],
            "text/latex": "$\\displaystyle 32 e^{20 \\alpha} e^{2 d_{1}} e^{3 d_{2}} e^{4 d_{3}}$"
          },
          "metadata": {},
          "execution_count": 23
        }
      ]
    },
    {
      "cell_type": "markdown",
      "source": [
        "Thus mapping $\\boldsymbol{\\theta}(\\boldsymbol{\\phi})$ smooth and invertable (diffeomorphism) and does not introduce new local minima, making it particularly effective for adaptation and optimization contexts where physical constraints are paramount."
      ],
      "metadata": {
        "id": "zDClKfhif7Aq"
      }
    },
    {
      "cell_type": "markdown",
      "source": [
        "## Stay Tuned\n",
        "\n",
        "This is just the beginning. Soon we will provide more theory on some related topics, mainly on:\n",
        "\n",
        "* [Riemannian regularization](https://ieeexplore.ieee.org/document/8922724)\n",
        "* [Alternative perspectives on regressor models: energy, power, momentum](https://ieeexplore.ieee.org/document/574537)"
      ],
      "metadata": {
        "id": "V1cs1QQnRzWz"
      }
    }
  ],
  "metadata": {
    "colab": {
      "provenance": []
    },
    "kernelspec": {
      "display_name": "Python 3",
      "name": "python3"
    },
    "language_info": {
      "name": "python"
    }
  },
  "nbformat": 4,
  "nbformat_minor": 0
}